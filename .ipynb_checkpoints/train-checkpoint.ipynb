{
 "cells": [
  {
   "cell_type": "markdown",
   "id": "b1e380c0",
   "metadata": {},
   "source": [
    "# Importando bibliotecas importantes"
   ]
  },
  {
   "cell_type": "code",
   "execution_count": 1,
   "id": "01856c50",
   "metadata": {},
   "outputs": [],
   "source": [
    "import tensorflow as tf\n",
    "physical_devices = tf.config.list_physical_devices('GPU') \n",
    "tf.config.experimental.set_memory_growth(physical_devices[0], True)\n",
    "\n",
    "import keras\n",
    "import numpy as np"
   ]
  },
  {
   "cell_type": "code",
   "execution_count": 2,
   "id": "6c3aed19",
   "metadata": {},
   "outputs": [],
   "source": [
    "%matplotlib notebook \n",
    "import matplotlib.pyplot as plt"
   ]
  },
  {
   "cell_type": "markdown",
   "id": "35c1b970",
   "metadata": {},
   "source": [
    "### Bibliotecas pessoais"
   ]
  },
  {
   "cell_type": "code",
   "execution_count": 3,
   "id": "74224ae0",
   "metadata": {},
   "outputs": [],
   "source": [
    "from dataHandler import dataHandler"
   ]
  },
  {
   "cell_type": "markdown",
   "id": "392100e6",
   "metadata": {},
   "source": [
    "# Carregando dados"
   ]
  },
  {
   "cell_type": "code",
   "execution_count": 4,
   "id": "57b86591",
   "metadata": {},
   "outputs": [],
   "source": [
    "data = dataHandler()\n",
    "data.loadData()"
   ]
  },
  {
   "cell_type": "markdown",
   "id": "41ffb733",
   "metadata": {},
   "source": [
    "### Codificando labels via One Hot Encoding"
   ]
  },
  {
   "cell_type": "code",
   "execution_count": 5,
   "id": "446c079f",
   "metadata": {},
   "outputs": [],
   "source": [
    "data.oneHotEncode()"
   ]
  },
  {
   "cell_type": "code",
   "execution_count": 6,
   "id": "5c7545a3",
   "metadata": {},
   "outputs": [
    {
     "name": "stdout",
     "output_type": "stream",
     "text": [
      "- Foram detectadas 26 classes diferentes\n"
     ]
    }
   ],
   "source": [
    "print(\"- Foram detectadas %d classes diferentes\" % data.getClassCount())"
   ]
  },
  {
   "cell_type": "markdown",
   "id": "fd453428",
   "metadata": {},
   "source": [
    "### Obtendo dados\n",
    "Os dados de treino e teste são divididos durante o carregamento"
   ]
  },
  {
   "cell_type": "code",
   "execution_count": 7,
   "id": "cc6b0bc4",
   "metadata": {},
   "outputs": [],
   "source": [
    "train_features, test_features = data.getFeatures()\n",
    "train_labels, test_labels = data.getLabels()"
   ]
  },
  {
   "cell_type": "markdown",
   "id": "ed1733e2",
   "metadata": {},
   "source": [
    "### Visualizando dados"
   ]
  },
  {
   "cell_type": "code",
   "execution_count": 8,
   "id": "d57c31f3",
   "metadata": {},
   "outputs": [
    {
     "name": "stdout",
     "output_type": "stream",
     "text": [
      "[0, 0, 0, 0, 0, 0, 0, 1, 0, 0, 0, 0, 0, 0, 0, 0, 0, 0, 0, 0, 0, 0, 0, 0, 0, 0]\n",
      "[0, 0, 0, 0, 0, 0, 0, 0, 0, 0, 0, 0, 0, 0, 0, 0, 0, 1, 0, 0, 0, 0, 0, 0, 0, 0]\n"
     ]
    }
   ],
   "source": [
    "print(train_labels[0])\n",
    "print(train_labels[1])"
   ]
  },
  {
   "cell_type": "code",
   "execution_count": 9,
   "id": "bd0afca3",
   "metadata": {},
   "outputs": [
    {
     "name": "stdout",
     "output_type": "stream",
     "text": [
      "[0, 0, 0, 0, 0, 0, 0, 0, 0, 0, 0, 0, 0, 0, 0, 0, 0, 0, 0, 0, 0, 0, 0, 0, 0, 0, 0, 0, 255, 255, 254, 254, 0, 0, 0, 0, 0, 0, 0, 0, 0, 13, 0, 3, 16, 0, 14, 0, 0, 0, 0, 0, 0, 0, 0, 0, 0, 0, 0, 0, 0, 0, 0, 0, 0, 0, 0, 0, 0, 0, 0, 0, 0, 0, 0, 0, 0, 0, 0, 0, 0, 0, 0, 0, 0, 0, 0, 0, 0, 0, 0, 0, 255, 255, 254, 254, 3, 3, 3, 3, 3, 3, 3, 3, 0, 0, 0, 0, 0, 7, 0, 17, 0, 0, 0, 0, 0, 0, 0, 0, 0, 0, 0, 0, 0, 0, 0, 0, 0, 0, 0, 0, 0, 0, 0, 0, 0, 0, 0, 0, 0, 0, 0, 0, 0, 0, 0, 0, 0, 0, 0, 0, 0, 0, 0, 0, 255, 255, 254, 254, 253, 253, 253, 253, 253, 253, 253, 253, 255, 250, 255, 0, 1, 10, 5, 0, 0, 0, 0, 0, 0, 0, 0, 0, 0, 0, 0, 0, 0, 0, 0, 0, 0, 0, 0, 0, 0, 0, 0, 0, 0, 0, 0, 0, 0, 0, 0, 0, 0, 0, 0, 0, 0, 0, 0, 0, 0, 0, 0, 0, 255, 255, 254, 254, 255, 255, 255, 255, 255, 255, 255, 255, 251, 246, 255, 13, 0, 6, 0, 11, 0, 0, 0, 0, 0, 0, 0, 0, 0, 0, 0, 0, 0, 0, 0, 0, 0, 0, 0, 0, 0, 0, 0, 0, 0, 0, 0, 0, 0, 0, 0, 0, 0, 0, 0, 0, 0, 0, 0, 0, 0, 0, 0, 0, 255, 255, 254, 254, 253, 253, 253, 253, 253, 253, 253, 253, 254, 255, 255, 0, 1, 0, 13, 0, 0, 0, 0, 0, 0, 0, 0, 0, 0, 0, 0, 0, 0, 0, 0, 0, 0, 0, 0, 0, 0, 0, 0, 0, 0, 0, 0, 0, 0, 0, 0, 0, 0, 0, 0, 0, 0, 0, 0, 0, 0, 0, 0, 0, 255, 255, 254, 254, 1, 1, 1, 1, 1, 1, 1, 1, 0, 6, 0, 10, 0, 11, 0, 19, 0, 0, 0, 0, 0, 0, 0, 0, 0, 0, 0, 0, 0, 0, 0, 0, 0, 0, 0, 0, 0, 0, 0, 0, 0, 0, 0, 0, 0, 0, 0, 0, 0, 0, 0, 0, 0, 0, 0, 0, 0, 0, 0, 0, 255, 255, 254, 254, 1, 1, 1, 1, 1, 1, 1, 1, 0, 3, 0, 0, 1, 5, 0, 0, 0, 0, 0, 0, 0, 0, 0, 0, 0, 0, 0, 0, 0, 0, 0, 0, 0, 0, 0, 0, 0, 0, 0, 0, 0, 0, 0, 0, 0, 0, 0, 0, 0, 0, 0, 0, 0, 0, 0, 0, 0, 0, 0, 0, 255, 255, 254, 254, 1, 1, 1, 1, 1, 1, 1, 1, 0, 0, 7, 0, 0, 0, 2, 4, 0, 0, 0, 0]\n"
     ]
    }
   ],
   "source": [
    "print(train_features[0][1000:1500])"
   ]
  },
  {
   "cell_type": "code",
   "execution_count": 10,
   "id": "4fbdccef",
   "metadata": {},
   "outputs": [
    {
     "name": "stdout",
     "output_type": "stream",
     "text": [
      "- Tamanho do conjunto de treino: 2704\n",
      "- Tamanho do conjunto de teste: 832\n"
     ]
    }
   ],
   "source": [
    "print(\"- Tamanho do conjunto de treino: %d\" % len(train_features))\n",
    "print(\"- Tamanho do conjunto de teste: %d\" % len(test_features))"
   ]
  },
  {
   "cell_type": "markdown",
   "id": "96444f8f",
   "metadata": {},
   "source": [
    "# Criando rede neural"
   ]
  },
  {
   "cell_type": "code",
   "execution_count": 11,
   "id": "0cb2cb6c",
   "metadata": {},
   "outputs": [
    {
     "name": "stdout",
     "output_type": "stream",
     "text": [
      "- Tamanho linear dos dados de entrada: 4096\n"
     ]
    }
   ],
   "source": [
    "inputShape = len(train_features[0])\n",
    "numClasses = data.getClassCount()\n",
    "\n",
    "print(\"- Tamanho linear dos dados de entrada: %d\" % inputShape)"
   ]
  },
  {
   "cell_type": "code",
   "execution_count": 12,
   "id": "d4451781",
   "metadata": {},
   "outputs": [],
   "source": [
    "model = keras.Sequential()\n",
    "model.add(keras.layers.Dense(2400, input_dim=inputShape, activation='selu'))\n",
    "model.add(keras.layers.Dropout(0.8))\n",
    "model.add(keras.layers.normalization.BatchNormalization())\n",
    "\n",
    "model.add(keras.layers.Dense(1800, input_dim=inputShape, activation='selu'))\n",
    "model.add(keras.layers.normalization.BatchNormalization())\n",
    "model.add(keras.layers.Dropout(0.5))\n",
    "\n",
    "model.add(keras.layers.Dense(800, input_dim=inputShape, activation='selu'))\n",
    "model.add(keras.layers.normalization.BatchNormalization())\n",
    "model.add(keras.layers.Dropout(0.5))\n",
    "\n",
    "model.add(keras.layers.Dense(numClasses, activation=\"softmax\"))"
   ]
  },
  {
   "cell_type": "code",
   "execution_count": 13,
   "id": "1be8d92e",
   "metadata": {},
   "outputs": [
    {
     "name": "stdout",
     "output_type": "stream",
     "text": [
      "Model: \"sequential\"\n",
      "_________________________________________________________________\n",
      "Layer (type)                 Output Shape              Param #   \n",
      "=================================================================\n",
      "dense (Dense)                (None, 2400)              9832800   \n",
      "_________________________________________________________________\n",
      "dropout (Dropout)            (None, 2400)              0         \n",
      "_________________________________________________________________\n",
      "batch_normalization (BatchNo (None, 2400)              9600      \n",
      "_________________________________________________________________\n",
      "dense_1 (Dense)              (None, 1800)              4321800   \n",
      "_________________________________________________________________\n",
      "batch_normalization_1 (Batch (None, 1800)              7200      \n",
      "_________________________________________________________________\n",
      "dropout_1 (Dropout)          (None, 1800)              0         \n",
      "_________________________________________________________________\n",
      "dense_2 (Dense)              (None, 800)               1440800   \n",
      "_________________________________________________________________\n",
      "batch_normalization_2 (Batch (None, 800)               3200      \n",
      "_________________________________________________________________\n",
      "dropout_2 (Dropout)          (None, 800)               0         \n",
      "_________________________________________________________________\n",
      "dense_3 (Dense)              (None, 26)                20826     \n",
      "=================================================================\n",
      "Total params: 15,636,226\n",
      "Trainable params: 15,626,226\n",
      "Non-trainable params: 10,000\n",
      "_________________________________________________________________\n"
     ]
    }
   ],
   "source": [
    "model.summary()"
   ]
  },
  {
   "cell_type": "markdown",
   "id": "8f4e027e",
   "metadata": {},
   "source": [
    "## Compilando modelo"
   ]
  },
  {
   "cell_type": "code",
   "execution_count": 14,
   "id": "b6ddc90b",
   "metadata": {},
   "outputs": [],
   "source": [
    "model.compile(loss='categorical_crossentropy', optimizer='adam', metrics=['accuracy'])"
   ]
  },
  {
   "cell_type": "markdown",
   "id": "32399590",
   "metadata": {},
   "source": [
    "# Treinando modelo"
   ]
  },
  {
   "cell_type": "code",
   "execution_count": null,
   "id": "5eadf505",
   "metadata": {},
   "outputs": [
    {
     "name": "stdout",
     "output_type": "stream",
     "text": [
      "Epoch 1/100\n",
      "43/43 [==============================] - 11s 231ms/step - loss: 4.9391 - accuracy: 0.0501 - val_loss: 5.9225 - val_accuracy: 0.1178\n",
      "Epoch 2/100\n",
      "43/43 [==============================] - 1s 18ms/step - loss: 4.3598 - accuracy: 0.0952 - val_loss: 3.9185 - val_accuracy: 0.1839\n",
      "Epoch 3/100\n",
      "43/43 [==============================] - 1s 18ms/step - loss: 3.8164 - accuracy: 0.1137 - val_loss: 3.3129 - val_accuracy: 0.2019\n",
      "Epoch 4/100\n",
      "43/43 [==============================] - 1s 18ms/step - loss: 3.4542 - accuracy: 0.1408 - val_loss: 3.1537 - val_accuracy: 0.2368\n",
      "Epoch 5/100\n",
      "43/43 [==============================] - 1s 18ms/step - loss: 3.2103 - accuracy: 0.1630 - val_loss: 3.1168 - val_accuracy: 0.2548\n",
      "Epoch 6/100\n",
      "43/43 [==============================] - 1s 18ms/step - loss: 3.0883 - accuracy: 0.1807 - val_loss: 3.2835 - val_accuracy: 0.2933\n",
      "Epoch 7/100\n",
      "43/43 [==============================] - 1s 20ms/step - loss: 2.9195 - accuracy: 0.2096 - val_loss: 3.5007 - val_accuracy: 0.2861\n",
      "Epoch 8/100\n",
      "43/43 [==============================] - 1s 18ms/step - loss: 2.7722 - accuracy: 0.2346 - val_loss: 3.1103 - val_accuracy: 0.2873\n",
      "Epoch 9/100\n",
      "43/43 [==============================] - 1s 19ms/step - loss: 2.7694 - accuracy: 0.2243 - val_loss: 3.3552 - val_accuracy: 0.2825\n",
      "Epoch 10/100\n",
      "43/43 [==============================] - 1s 19ms/step - loss: 2.5870 - accuracy: 0.2745 - val_loss: 3.5368 - val_accuracy: 0.3065\n",
      "Epoch 11/100\n",
      "43/43 [==============================] - 1s 17ms/step - loss: 2.5574 - accuracy: 0.2731 - val_loss: 3.6034 - val_accuracy: 0.3209\n",
      "Epoch 12/100\n",
      "43/43 [==============================] - 1s 18ms/step - loss: 2.4171 - accuracy: 0.3116 - val_loss: 3.4177 - val_accuracy: 0.3197\n",
      "Epoch 13/100\n",
      "43/43 [==============================] - 1s 18ms/step - loss: 2.3542 - accuracy: 0.3170 - val_loss: 3.5360 - val_accuracy: 0.3209\n",
      "Epoch 14/100\n",
      "43/43 [==============================] - 1s 19ms/step - loss: 2.2184 - accuracy: 0.3436 - val_loss: 3.5888 - val_accuracy: 0.3017\n",
      "Epoch 15/100\n",
      "43/43 [==============================] - 1s 18ms/step - loss: 2.2279 - accuracy: 0.3470 - val_loss: 3.5763 - val_accuracy: 0.3257\n",
      "Epoch 16/100\n",
      "43/43 [==============================] - 1s 19ms/step - loss: 2.1647 - accuracy: 0.3431 - val_loss: 3.1910 - val_accuracy: 0.3293\n",
      "Epoch 17/100\n",
      "43/43 [==============================] - 1s 18ms/step - loss: 2.1523 - accuracy: 0.3576 - val_loss: 3.6620 - val_accuracy: 0.3329\n",
      "Epoch 18/100\n",
      "43/43 [==============================] - 1s 18ms/step - loss: 2.0984 - accuracy: 0.3511 - val_loss: 3.7003 - val_accuracy: 0.3630\n",
      "Epoch 19/100\n",
      "43/43 [==============================] - 1s 17ms/step - loss: 2.0329 - accuracy: 0.3720 - val_loss: 3.7549 - val_accuracy: 0.3425\n",
      "Epoch 20/100\n",
      "43/43 [==============================] - 1s 17ms/step - loss: 2.0425 - accuracy: 0.3751 - val_loss: 3.5458 - val_accuracy: 0.3606\n",
      "Epoch 21/100\n",
      "43/43 [==============================] - 1s 19ms/step - loss: 2.0224 - accuracy: 0.3858 - val_loss: 3.6755 - val_accuracy: 0.3666\n",
      "Epoch 22/100\n",
      "43/43 [==============================] - 1s 19ms/step - loss: 1.9366 - accuracy: 0.3946 - val_loss: 3.6777 - val_accuracy: 0.3726\n",
      "Epoch 23/100\n",
      "43/43 [==============================] - 1s 18ms/step - loss: 1.8509 - accuracy: 0.4298 - val_loss: 3.6622 - val_accuracy: 0.3546\n",
      "Epoch 24/100\n",
      "43/43 [==============================] - 1s 17ms/step - loss: 1.8201 - accuracy: 0.4263 - val_loss: 3.5308 - val_accuracy: 0.3642\n",
      "Epoch 25/100\n",
      "43/43 [==============================] - 1s 18ms/step - loss: 1.8451 - accuracy: 0.4285 - val_loss: 3.6233 - val_accuracy: 0.3618\n",
      "Epoch 26/100\n",
      "43/43 [==============================] - 1s 18ms/step - loss: 1.8022 - accuracy: 0.4318 - val_loss: 3.5154 - val_accuracy: 0.3798\n",
      "Epoch 27/100\n",
      "43/43 [==============================] - 1s 18ms/step - loss: 1.7648 - accuracy: 0.4338 - val_loss: 3.8259 - val_accuracy: 0.3702\n",
      "Epoch 28/100\n",
      "43/43 [==============================] - 1s 18ms/step - loss: 1.6799 - accuracy: 0.4404 - val_loss: 3.3602 - val_accuracy: 0.3858\n",
      "Epoch 29/100\n",
      "43/43 [==============================] - 1s 18ms/step - loss: 1.6694 - accuracy: 0.4809 - val_loss: 3.4451 - val_accuracy: 0.4002\n",
      "Epoch 30/100\n",
      "43/43 [==============================] - 1s 18ms/step - loss: 1.7405 - accuracy: 0.4489 - val_loss: 3.6095 - val_accuracy: 0.3702\n",
      "Epoch 31/100\n",
      "43/43 [==============================] - 1s 18ms/step - loss: 1.6179 - accuracy: 0.4808 - val_loss: 3.6623 - val_accuracy: 0.3678\n",
      "Epoch 32/100\n",
      "43/43 [==============================] - 1s 18ms/step - loss: 1.6761 - accuracy: 0.4592 - val_loss: 3.6788 - val_accuracy: 0.4014\n",
      "Epoch 33/100\n",
      "43/43 [==============================] - 1s 18ms/step - loss: 1.6251 - accuracy: 0.4816 - val_loss: 3.8216 - val_accuracy: 0.3786\n",
      "Epoch 34/100\n",
      "43/43 [==============================] - 1s 18ms/step - loss: 1.7023 - accuracy: 0.4636 - val_loss: 3.5617 - val_accuracy: 0.3858\n",
      "Epoch 35/100\n",
      "43/43 [==============================] - 1s 18ms/step - loss: 1.5891 - accuracy: 0.4922 - val_loss: 3.5518 - val_accuracy: 0.3954\n",
      "Epoch 36/100\n",
      "43/43 [==============================] - 1s 18ms/step - loss: 1.4919 - accuracy: 0.5191 - val_loss: 3.5928 - val_accuracy: 0.3774\n",
      "Epoch 37/100\n",
      "43/43 [==============================] - 1s 18ms/step - loss: 1.5362 - accuracy: 0.4913 - val_loss: 3.8396 - val_accuracy: 0.3846\n",
      "Epoch 38/100\n",
      "43/43 [==============================] - 1s 20ms/step - loss: 1.5433 - accuracy: 0.4994 - val_loss: 3.9145 - val_accuracy: 0.3990\n",
      "Epoch 39/100\n",
      "43/43 [==============================] - 1s 19ms/step - loss: 1.5220 - accuracy: 0.5271 - val_loss: 3.6062 - val_accuracy: 0.3954\n",
      "Epoch 40/100\n",
      "43/43 [==============================] - 1s 19ms/step - loss: 1.5065 - accuracy: 0.5190 - val_loss: 3.5441 - val_accuracy: 0.3870\n",
      "Epoch 41/100\n",
      "43/43 [==============================] - 1s 17ms/step - loss: 1.4940 - accuracy: 0.5217 - val_loss: 3.6518 - val_accuracy: 0.3846\n",
      "Epoch 42/100\n",
      "43/43 [==============================] - 1s 19ms/step - loss: 1.4685 - accuracy: 0.5159 - val_loss: 3.5425 - val_accuracy: 0.3966\n",
      "Epoch 43/100\n",
      "43/43 [==============================] - 1s 18ms/step - loss: 1.4670 - accuracy: 0.5249 - val_loss: 3.7537 - val_accuracy: 0.3882\n",
      "Epoch 44/100\n",
      "43/43 [==============================] - 1s 18ms/step - loss: 1.4726 - accuracy: 0.5149 - val_loss: 3.4561 - val_accuracy: 0.4123\n",
      "Epoch 45/100\n",
      "43/43 [==============================] - 1s 18ms/step - loss: 1.3900 - accuracy: 0.5472 - val_loss: 3.4623 - val_accuracy: 0.3990\n",
      "Epoch 46/100\n",
      "43/43 [==============================] - 1s 18ms/step - loss: 1.4669 - accuracy: 0.5168 - val_loss: 3.7255 - val_accuracy: 0.3978\n",
      "Epoch 47/100\n",
      "43/43 [==============================] - 1s 18ms/step - loss: 1.3703 - accuracy: 0.5324 - val_loss: 3.5497 - val_accuracy: 0.4159\n",
      "Epoch 48/100\n",
      "43/43 [==============================] - 1s 17ms/step - loss: 1.3861 - accuracy: 0.5413 - val_loss: 3.4365 - val_accuracy: 0.3846\n",
      "Epoch 49/100\n",
      "43/43 [==============================] - 1s 17ms/step - loss: 1.4223 - accuracy: 0.5245 - val_loss: 3.7557 - val_accuracy: 0.3846\n",
      "Epoch 50/100\n",
      "43/43 [==============================] - 1s 18ms/step - loss: 1.3336 - accuracy: 0.5630 - val_loss: 3.8310 - val_accuracy: 0.3954\n",
      "Epoch 51/100\n",
      "43/43 [==============================] - 1s 18ms/step - loss: 1.3395 - accuracy: 0.5752 - val_loss: 3.7153 - val_accuracy: 0.3918\n",
      "Epoch 52/100\n",
      "43/43 [==============================] - 1s 17ms/step - loss: 1.3210 - accuracy: 0.5651 - val_loss: 3.8874 - val_accuracy: 0.4207\n",
      "Epoch 53/100\n",
      "43/43 [==============================] - 1s 18ms/step - loss: 1.3431 - accuracy: 0.5640 - val_loss: 3.8763 - val_accuracy: 0.3966\n",
      "Epoch 54/100\n",
      "37/43 [========================>.....] - ETA: 0s - loss: 1.3062 - accuracy: 0.5674"
     ]
    }
   ],
   "source": [
    "history = model.fit(train_features, train_labels, epochs=100, batch_size=64, validation_data=(test_features, test_labels))"
   ]
  },
  {
   "cell_type": "code",
   "execution_count": null,
   "id": "9a1f12f7",
   "metadata": {},
   "outputs": [],
   "source": [
    "plt.figure()\n",
    "plt.plot(history.history['accuracy'], label=\"Acurácia do treino\")\n",
    "plt.plot(history.history['val_accuracy'], label = \"Acurácia do teste\")\n",
    "plt.legend()\n",
    "plt.show()"
   ]
  },
  {
   "cell_type": "code",
   "execution_count": null,
   "id": "dfad6f90",
   "metadata": {},
   "outputs": [],
   "source": [
    "plt.figure()\n",
    "plt.plot(history.history['loss'], label = \"'Custo' do treino\")\n",
    "plt.plot(history.history['val_loss'], label= \"'Custo' do teste\")\n",
    "plt.legend()\n",
    "plt.show()"
   ]
  },
  {
   "cell_type": "markdown",
   "id": "262c71b6",
   "metadata": {},
   "source": [
    "# Avaliando modelo"
   ]
  },
  {
   "cell_type": "code",
   "execution_count": 107,
   "id": "99365449",
   "metadata": {},
   "outputs": [
    {
     "name": "stdout",
     "output_type": "stream",
     "text": [
      "27/27 [==============================] - 0s 9ms/step - loss: 7.1882 - accuracy: 0.4738\n",
      "Acurácia do modelo nos dados de teste: 47.38%\n"
     ]
    }
   ],
   "source": [
    "_, accuracy = model.evaluate(test_features, test_labels)\n",
    "print(\"Acurácia do modelo nos dados de teste: %.2f%%\" % (accuracy*100.0))"
   ]
  },
  {
   "cell_type": "markdown",
   "id": "28457123",
   "metadata": {},
   "source": [
    "# Testando modelo"
   ]
  },
  {
   "cell_type": "code",
   "execution_count": 44,
   "id": "cbbdde72",
   "metadata": {},
   "outputs": [],
   "source": [
    "import cv2\n",
    "\n",
    "# Função para carregar imagem\n",
    "def loadImage(fileName, printImg = False):\n",
    "    # Carrega a imagem e aplica um threshold para ficar igual\n",
    "    # as imagens do treino\n",
    "    img = cv2.imread(fileName, cv2.IMREAD_GRAYSCALE)\n",
    "    _, img = cv2.threshold(img, 0, 255, cv2.THRESH_OTSU | cv2.THRESH_BINARY_INV) \n",
    "\n",
    "    # Ajusta o tamanho da imagem\n",
    "    img = cv2.resize(img, (64,64))\n",
    "    \n",
    "    if printImg:\n",
    "        plt.figure()\n",
    "        plt.imshow(img, cmap='gray')\n",
    "    \n",
    "    return list(img.flatten().tolist())\n",
    "\n",
    "\n",
    "def getChar(x):\n",
    "    label = model.predict([x], batch_size=1)\n",
    "    \n",
    "    char = data.oneHotDecode(label)\n",
    "    \n",
    "    return char"
   ]
  },
  {
   "cell_type": "code",
   "execution_count": 64,
   "id": "2cc76b2e",
   "metadata": {},
   "outputs": [
    {
     "name": "stdout",
     "output_type": "stream",
     "text": [
      "O caractere reconhecido foi t\n"
     ]
    }
   ],
   "source": [
    "x = loadImage(\"testes/letraa.png\")\n",
    "c = getChar(x)\n",
    "print(\"O caractere reconhecido foi %s\" % c)"
   ]
  },
  {
   "cell_type": "code",
   "execution_count": 65,
   "id": "ceef1ad5",
   "metadata": {},
   "outputs": [
    {
     "name": "stdout",
     "output_type": "stream",
     "text": [
      "O caractere reconhecido foi a\n"
     ]
    }
   ],
   "source": [
    "x = loadImage(\"testes/letraa2.png\")\n",
    "c = getChar(x)\n",
    "print(\"O caractere reconhecido foi %s\" % c)"
   ]
  },
  {
   "cell_type": "code",
   "execution_count": 66,
   "id": "182c7df3",
   "metadata": {},
   "outputs": [
    {
     "name": "stdout",
     "output_type": "stream",
     "text": [
      "O caractere reconhecido foi t\n"
     ]
    }
   ],
   "source": [
    "x = loadImage(\"testes/letraAu.png\")\n",
    "c = getChar(x)\n",
    "print(\"O caractere reconhecido foi %s\" % c)"
   ]
  },
  {
   "cell_type": "code",
   "execution_count": 67,
   "id": "5ccf9b38",
   "metadata": {},
   "outputs": [
    {
     "name": "stdout",
     "output_type": "stream",
     "text": [
      "O caractere reconhecido foi t\n"
     ]
    }
   ],
   "source": [
    "x = loadImage(\"testes/cidilha.png\")\n",
    "c = getChar(x)\n",
    "print(\"O caractere reconhecido foi %s\" % c)"
   ]
  },
  {
   "cell_type": "code",
   "execution_count": 68,
   "id": "95ee77dc",
   "metadata": {},
   "outputs": [
    {
     "name": "stdout",
     "output_type": "stream",
     "text": [
      "O caractere reconhecido foi t\n"
     ]
    }
   ],
   "source": [
    "x = loadImage(\"testes/cidilhau.png\")\n",
    "c = getChar(x)\n",
    "print(\"O caractere reconhecido foi %s\" % c)"
   ]
  },
  {
   "cell_type": "code",
   "execution_count": null,
   "id": "91f4a3b1",
   "metadata": {},
   "outputs": [],
   "source": []
  }
 ],
 "metadata": {
  "kernelspec": {
   "display_name": "Python 3",
   "language": "python",
   "name": "python3"
  },
  "language_info": {
   "codemirror_mode": {
    "name": "ipython",
    "version": 3
   },
   "file_extension": ".py",
   "mimetype": "text/x-python",
   "name": "python",
   "nbconvert_exporter": "python",
   "pygments_lexer": "ipython3",
   "version": "3.7.8"
  }
 },
 "nbformat": 4,
 "nbformat_minor": 5
}
